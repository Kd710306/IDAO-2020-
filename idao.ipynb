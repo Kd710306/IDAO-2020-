{
  "nbformat": 4,
  "nbformat_minor": 0,
  "metadata": {
    "colab": {
      "name": "Untitled0.ipynb",
      "provenance": [],
      "private_outputs": true,
      "collapsed_sections": []
    },
    "kernelspec": {
      "name": "python3",
      "display_name": "Python 3"
    }
  },
  "cells": [
    {
      "cell_type": "markdown",
      "metadata": {
        "id": "d5maSV2z_Dt6",
        "colab_type": "text"
      },
      "source": [
        "KerasRegrssor model"
      ]
    },
    {
      "cell_type": "code",
      "metadata": {
        "id": "LCkdboL1SHle",
        "colab_type": "code",
        "colab": {}
      },
      "source": [
        "import pandas as pd\n",
        "import numpy  as np\n",
        "from keras.models import Sequential\n",
        "from keras.layers import Embedding,Dropout,Dense,LSTM,Flatten,Conv1D,MaxPool1D,Input,LeakyReLU,LSTM\n",
        "import numpy\n",
        "from keras import optimizers,regularizers\n",
        "from keras.wrappers.scikit_learn import  KerasRegressor\n",
        "import sklearn\n",
        "import tensorflow as tf\n",
        "from keras import backend as K\n",
        "from keras.callbacks import EarlyStopping,ModelCheckpoint\n",
        "from sklearn.model_selection import cross_val_score,KFold\n",
        "from sklearn.metrics import accuracy_score\n",
        "K.tensorflow_backend._get_available_gpus()"
      ],
      "execution_count": 0,
      "outputs": []
    },
    {
      "cell_type": "code",
      "metadata": {
        "id": "qz45AQS0TlOQ",
        "colab_type": "code",
        "colab": {}
      },
      "source": [
        "data=pd.read_csv('train.csv')\n",
        "test_csv=pd.read_csv('test.csv')"
      ],
      "execution_count": 0,
      "outputs": []
    },
    {
      "cell_type": "code",
      "metadata": {
        "id": "u-dtPGLBWeMD",
        "colab_type": "code",
        "colab": {}
      },
      "source": [
        "x=data.iloc[:,9:]\n",
        "y=data.iloc[:,3:9]"
      ],
      "execution_count": 0,
      "outputs": []
    },
    {
      "cell_type": "code",
      "metadata": {
        "id": "wzprMs5fU-gj",
        "colab_type": "code",
        "colab": {}
      },
      "source": [
        "from sklearn.preprocessing import StandardScaler\n",
        "scaler=StandardScaler()\n",
        "x=scaler.fit_transform(x)\n",
        "y=scaler.transform(y)\n",
        "test=test_csv.iloc[:,3:]\n",
        "test=scaler.fit_transform(test)"
      ],
      "execution_count": 0,
      "outputs": []
    },
    {
      "cell_type": "code",
      "metadata": {
        "id": "bw33pkFlWtGW",
        "colab_type": "code",
        "colab": {}
      },
      "source": [
        "x,y"
      ],
      "execution_count": 0,
      "outputs": []
    },
    {
      "cell_type": "code",
      "metadata": {
        "id": "H-OkV9KeWvfb",
        "colab_type": "code",
        "colab": {}
      },
      "source": [
        "from sklearn.model_selection import train_test_split\n",
        "x_train,x_test,y_train,y_test=train_test_split(x,y,test_size=0.1,shuffle='true')\n",
        "y_test"
      ],
      "execution_count": 0,
      "outputs": []
    },
    {
      "cell_type": "code",
      "metadata": {
        "id": "fHQ2TxQkW4y7",
        "colab_type": "code",
        "colab": {}
      },
      "source": [
        "def smape(a,b):\n",
        "  return K.mean(K.abs(a-b))/(K.abs(a)+K.abs(b))\n",
        "adam_op=optimizers.adam(lr=0.0001)\n",
        "def model_reg():\n",
        "  model=Sequential()\n",
        "  model.add(Dense(256,input_shape=(6,),kernel_regularizer=regularizers.l2(0.01)))\n",
        "  model.add(LeakyReLU(alpha=0.05))\n",
        "  model.add(Dense(128,kernel_regularizer=regularizers.l2(0.01)))\n",
        "  model.add(LeakyReLU(alpha=0.05))\n",
        "  model.add(Dense(64,kernel_regularizer=regularizers.l2(0.01)))\n",
        "  model.add(LeakyReLU(alpha=0.05))￼\n",
        "This notebook is open with private outputs. Outputs will not be saved. You can disable this in Notebook settings.\n",
        "￼Untitled0.ipynb_\n",
        "File\n",
        "Edit\n",
        "View\n",
        "Insert\n",
        "Runtime\n",
        "Tools\n",
        "Help\n",
        "Comment\n",
        "Share\n",
        "Code\n",
        "Text\n",
        "Connect\n",
        "Editing\n",
        "Double-click (or enter) to edit\n",
        "\n",
        "[ ]\n",
        "import pandas as pdimport numpy  as npfrom keras.models import Sequentialfrom keras.layers import Embedding,Dropout,Dense,LSTM,Flatten,Conv1D,MaxPool1D,Input,LeakyReLU,LSTMimport numpyfrom keras import optimizers,regularizersfrom keras.wrappers.scikit_learn import  KerasRegressorimport sklearnimport tensorflow as tffrom keras import backend as Kfrom keras.callbacks import EarlyStopping,ModelCheckpointfrom sklearn.model_selection import cross_val_score,KFoldfrom sklearn.metrics import accuracy_scoreK.tensorflow_backend._get_available_gpus()\n",
        "￼\n",
        "[ ]\n",
        "data=pd.read_csv('train.csv')test_csv=pd.read_csv('test.csv')\n",
        "￼\n",
        "[ ]\n",
        "x=data.iloc[:,9:]y=data.iloc[:,3:9]\n",
        "￼\n",
        "[ ]\n",
        "from sklearn.preprocessing import StandardScalerscaler=StandardScaler()x=scaler.fit_transform(x)y=scaler.transform(y)test=test_csv.iloc[:,3:]test=scaler.fit_transform(test)\n",
        "￼\n",
        "[ ]\n",
        "x,y\n",
        "￼\n",
        "[ ]\n",
        "from sklearn.model_selection import train_test_splitx_train,x_test,y_train,y_test=train_test_split(x,y,test_size=0.1,shuffle='true')y_test\n",
        "￼\n",
        "[ ]\n",
        "def smape(a,b):  return K.mean(K.abs(a-b))/(K.abs(a)+K.abs(b))adam_op=optimizers.adam(lr=0.0001)def model_reg():  model=Sequential()  model.add(Dense(256,input_shape=(6,),kernel_regularizer=regularizers.l2(0.01)))  model.add(LeakyReLU(alpha=0.05))  model.add(Dense(128,kernel_regularizer=regularizers.l2(0.01)))  model.add(LeakyReLU(alpha=0.05))  model.add(Dense(64,kernel_regularizer=regularizers.l2(0.01)))  model.add(LeakyReLU(alpha=0.05))  model.add(Dense(32,kernel_regularizer=regularizers.l2(0.01)))  model.add(LeakyReLU(alpha=0.05))  model.add(Dense(1,kernel_regularizer=regularizers.l2(0.01)))  model.compile(loss=smape, optimizer=adam_op,metrics=['accuracy'])  return model\n",
        "￼\n",
        "[ ]\n",
        "est=KerasRegressor(model_reg,nb_epoch=1,batch_size=64)kfold = KFold(n_splits=10)results = cross_val_score(est,x_train,y_train[:,:1],cv=kfold)print(\"Baseline: %.2f (%.2f) MSE\" % (results.mean(), results.std()))\n",
        "￼\n",
        "[ ]\n",
        "est.fit(x,y[:,:1],epochs=20,validation_data=(x_test,y_test[:,:1]))\n",
        "￼\n",
        "[ ]\n",
        "pred=pd.concat([test_csv.iloc[:,:1],pd.DataFrame(y_pred,columns=['x','y','z','Vx','Vy','Vz'])],axis=1).to_csv('pred5.csv')\n",
        "￼\n",
        "Regression Model\n",
        "\n",
        "[ ]\n",
        "prediction=np.empty((6,y_test.shape[0]),dtype='float32')for i in range(1,6):  est=KerasRegressor(model_reg,nb_epoch=1,batch_size=64)  kfold = KFold(n_splits=10)  results = cross_val_score(est,x_train,y_train[:,i-1:i],cv=kfold)  print(\"Baseline: %.2f (%.2f) MSE\" % (results.mean(), results.std()))  est.fit(x,y[:,i-1:i],epochs=30,validation_data=(x_test,y_test[:,i-1:i]))  est.score(x_test,y_test[:,i-1:i].reshape(y_test.shape[0],))  pred=est.predict(test[i-1:i])  pred=scaler.transform(pred)  prediction[i-1]= est.predict(pred)\n",
        "￼\n",
        "[ ]\n",
        "a=lreg.intercept_b=lreg.coef_plot_reg(b,a,lx,oy)\n",
        "￼\n",
        "[ ]\n",
        "mdata=pd.read_csv('train.csv',error_bad_lines=False)mdata=mdata.drop(columns=['id'])data=mdata.valuesmain_data=pd.read_csv('test.csv')\n",
        "￼\n",
        "[ ]\n",
        "test=main_data.drop(columns=['sat_id','epoch'])test=np.array(test)print(test)\n",
        "￼\n",
        "[ ]\n",
        "from sklearn.linear_model import LinearRegression as lrfrom matplotlib import pyplot as pltlreg=lr()lx=np.expand_dims(x,axis=1)oy=np.expand_dims(y,axis=1)http://codeforces.com/lreg.fit(oy,lx)i_x=data[:,3]i_y=data[:,8]\n",
        "￼\n",
        "[ ]\n",
        "i_x=np.expand_dims(i_x,axis=1)pred_y=lreg.predict(i_x)def plot_reg(a,b,left_x,orig_y):    plt.scatter(left_x,orig_y,color=\"red\")    y_pred=a*left_x+b    plt.plot(left_x,y_pred,color=\"black\")    plt.show()\n",
        "￼\n",
        "[ ]\n",
        "from sklearn.linear_model import Ridge as rgfrom sklearn.svm import SVRfrom sklearn.preprocessing import PolynomialFeatures as pffrom matplotlib import pyplot as pltlx=data[:300000,2]oy=data[:300000,8]x=np.expand_dims(lx,axis=1)y=np.expand_dims(oy,axis=1)rdg = rg(alpha=0.1) rdg.fit(y,x) \n",
        "￼\n",
        "[ ]\n",
        "from sklearn.linear_model import LinearRegression as lrfrom sklearn.linear_model import Ridge as rgfrom sklearn.svm import SVRimport pickleimport joblibfrom matplotlib import pyplot as pltpoly = pf(degree = 6) lreg=lr()def find_input(data,i,test,z):  x=data[:z,2+i]  y=data[:z,8+i]  print(x[589],y[589])  lx=np.expand_dims(x,axis=1)  oy=np.expand_dims(y,axis=1)  x_poly = poly.fit_transform(lx)   lreg.fit(oy,x_poly)  filename='model'+str(i+1)+'.sav'  joblib.dump(lreg,filename)  out=test[:,1+i]  out=np.expand_dims(out,axis=1)  output=lreg.predict(out)  #print(lreg.coef_,lreg.intercept_)  output=np.array(output[:,1])  print(out[589][0],output[589])  te=(mean_error(x,lreg.predict(oy)[:,1]))  return output,te\n",
        "￼\n",
        "[ ]\n",
        "from sklearn.linear_model import LinearRegression as lrfrom sklearn.linear_model import ElasticNet as ENfrom sklearn.svm import SVRfrom matplotlib import pyplot as plt poly = pf(degree = 8) lreg=lr()def find_input1(data,i,test,z):  x=data[:z,2+i]  y=data[:z,8+i]  print(x[589],y[589])  lx=np.expand_dims(x,axis=1)  oy=np.expand_dims(y,axis=1)  out=test[:,1+i]  out=np.expand_dims(out,axis=1)  output=rdg.predict(out)  #print(lreg.coef_,lreg.intercept_)  print(out[589][0],output[589])  te=(mean_error(x,rdg.predict(oy)))  return output,te\n",
        "￼\n",
        "[ ]\n",
        "ans=test[:,0]total_error=0a1,t1=find_input(data,0,test,200000)a2,t2=find_input(data,1,test,500000)a3,t3=find_input(data,2,test,500000)a4,t4=find_input(data,3,test,200000)a5,t5=find_input(data,4,test,200000)a6,t6=find_input(data,5,test,200000)total_error=t1+t2+t3+t4+t5+t6print(total_error/649912)\n",
        "￼\n",
        "[ ]\n",
        "total_error=0a1,t1=find_input(data,0,test,700000)a2,t2=find_input(data,1,test,700000)a3,t3=find_input(data,2,test,700000)a4,t4=find_input(data,3,test,700000)a5,t5=find_input(data,4,test,700000)a6,t6=find_input(data,5,test,700000)total_error=t1+t2+t3+t4+t5+t6print(total_error/649912)\n",
        "￼\n",
        "[ ]\n",
        "def mse(i):  x=data[:,2+i]  y=data[:,8+i]  c1,c2,c3,k,z=0,0,0,float('inf'),0  for i in range(len(x)):    p=abs(x[i]-y[i])    if p<500:      c1+=1    if p>1000:      c2+=1    if p<100:      c3+=1    z=max(z,p)    k=min(k,p)  print(c1,c2,c3,k,z)\n",
        "￼\n",
        "[ ]\n",
        "def mycode(i,q):  a1=find_input(data,i,test,q*(10**5))  z=[]  tst=test[:,i+1]  c1,c2,c3=0,0,0  k=100000  z=0  for i in range(200000):    p=abs(a1[i][0]-tst[i])    if p<500:      c1+=1    if p>1000:      c2+=1    if p<100:      c3+=1    z=max(z,p)    k=min(k,p)  print(c1,c2,c3,k,z)\n",
        "￼\n",
        "[ ]\n",
        "def mycode(i,q):  a1=find_input(data,i,test,q*(10**5))  z=[]  tst=test[:,i+1]  c1,c2,c3=0,0,0  k=100000  z=0  for i in range(200000):    p=abs(a1[i][0]-tst[i])    if p<500:      c1+=1    if p>1000:      c2+=1    if p<100:      c3+=1    z=max(z,p)    k=min(k,p)  print(c1,c2,c3,k,z)\n",
        "￼\n",
        "[ ]\n",
        "out=test[:,1]out=np.expand_dims(out,axis=1)a1=model1.predict(out)out=test[:,1]out=np.expand_dims(out,axis=1)a2=model2.predict(out)out=test[:,1]out=np.expand_dims(out,axis=1)a3=model3.predict(out)out=test[:,1]out=np.expand_dims(out,axis=1)a4=model4.predict(out)out=test[:,1]out=np.expand_dims(out,axis=1)a5=model5.predict(out)out=test[:,1]out=np.expand_dims(out,axis=1)a6=model6.predict(out)\n",
        "￼\n",
        "[ ]\n",
        "import csvfilename='submission.csv'fields=['id','x','y','z','Vx','Vy','Vz']p=[0]*7model1=pickle.load(open('model1','wb'))model2=pickle.load(open('model2','wb'))model3=pickle.load(open('model3','wb'))model4=pickle.load(open('model4','wb'))model5=pickle.load(open('model5','wb'))model6=pickle.load(open('model6','wb'))with open(filename,'w') as fp:  csvwriter = csv.writer(fp)   csvwriter.writerow(fields)  for i in range(l):    p=[int(ans[i]),a1[i][0],a2[i][0],a3[i][0],a4[i][0],a5[i][0],a6[i][0]]    csvwriter.writerow(p)\n",
        "￼\n",
        "[ ]\n",
        " \n",
        "￼\n",
        "[ ]\n",
        " \n",
        "￼\n",
        "[ ]\n",
        " \n",
        "￼\n",
        "[ ]\n",
        " \n",
        "￼\n",
        "[ ]\n",
        " \n",
        "￼\n",
        "[ ]\n",
        " \n",
        "￼\n",
        "Laying out notebook...\n",
        "  model.add(Dense(32,kernel_regularizer=regularizers.l2(0.01)))\n",
        "  model.add(LeakyReLU(alpha=0.05))\n",
        "  model.add(Dense(1,kernel_regularizer=regularizers.l2(0.01)))\n",
        "  model.compile(loss=smape, optimizer=adam_op,metrics=['accuracy'])\n",
        "  return model"
      ],
      "execution_count": 0,
      "outputs": []
    },
    {
      "cell_type": "code",
      "metadata": {
        "id": "e3cB8N5MfGe8",
        "colab_type": "code",
        "colab": {}
      },
      "source": [
        "est=KerasRegressor(model_reg,nb_epoch=1,batch_size=64)\n",
        "kfold = KFold(n_splits=10)\n",
        "results = cross_val_score(est,x_train,y_train[:,:1],cv=kfold)\n",
        "print(\"Baseline: %.2f (%.2f) MSE\" % (results.mean(), results.std()))"
      ],
      "execution_count": 0,
      "outputs": []
    },
    {
      "cell_type": "code",
      "metadata": {
        "id": "vAy5qyO007XA",
        "colab_type": "code",
        "colab": {}
      },
      "source": [
        "est.fit(x,y[:,:1],epochs=20,validation_data=(x_test,y_test[:,:1]))"
      ],
      "execution_count": 0,
      "outputs": []
    },
    {
      "cell_type": "code",
      "metadata": {
        "id": "tFRwu_bNTWRi",
        "colab_type": "code",
        "colab": {}
      },
      "source": [
        "pred=pd.concat([test_csv.iloc[:,:1],pd.DataFrame(y_pred,columns=['x','y','z','Vx','Vy','Vz'])],axis=1).to_csv('pred5.csv')"
      ],
      "execution_count": 0,
      "outputs": []
    },
    {
      "cell_type": "markdown",
      "metadata": {
        "id": "e3-wqWX5-_4j",
        "colab_type": "text"
      },
      "source": [
        "Regression Model"
      ]
    },
    {
      "cell_type": "code",
      "metadata": {
        "id": "Akds2UrK4j2f",
        "colab_type": "code",
        "colab": {}
      },
      "source": [
        "prediction=np.empty((6,y_test.shape[0]),dtype='float32')\n",
        "for i in range(1,6):\n",
        "  est=KerasRegressor(model_reg,nb_epoch=1,batch_size=64)\n",
        "  kfold = KFold(n_splits=10)\n",
        "  results = cross_val_score(est,x_train,y_train[:,i-1:i],cv=kfold)\n",
        "  print(\"Baseline: %.2f (%.2f) MSE\" % (results.mean(), results.std()))\n",
        "  est.fit(x,y[:,i-1:i],epochs=30,validation_data=(x_test,y_test[:,i-1:i]))\n",
        "  est.score(x_test,y_test[:,i-1:i].reshape(y_test.shape[0],))\n",
        "  pred=est.predict(test[i-1:i])\n",
        "  pred=scaler.transform(pred)\n",
        "  prediction[i-1]= est.predict(pred)"
      ],
      "execution_count": 0,
      "outputs": []
    },
    {
      "cell_type": "code",
      "metadata": {
        "id": "J1dFc8a34ldv",
        "colab_type": "code",
        "colab": {}
      },
      "source": [
        "a=lreg.intercept_\n",
        "b=lreg.coef_\n",
        "plot_reg(b,a,lx,oy)"
      ],
      "execution_count": 0,
      "outputs": []
    },
    {
      "cell_type": "code",
      "metadata": {
        "id": "2h64ggsV4mYV",
        "colab_type": "code",
        "colab": {}
      },
      "source": [
        "mdata=pd.read_csv('train.csv',error_bad_lines=False)\n",
        "mdata=mdata.drop(columns=['id'])\n",
        "data=mdata.values\n",
        "main_data=pd.read_csv('test.csv')"
      ],
      "execution_count": 0,
      "outputs": []
    },
    {
      "cell_type": "code",
      "metadata": {
        "id": "SiSKSOzEckyy",
        "colab_type": "code",
        "colab": {}
      },
      "source": [
        "test=main_data.drop(columns=['sat_id','epoch'])\n",
        "test=np.array(test)\n",
        "print(test)"
      ],
      "execution_count": 0,
      "outputs": []
    },
    {
      "cell_type": "code",
      "metadata": {
        "id": "x-1_BR1nRkiV",
        "colab_type": "code",
        "colab": {}
      },
      "source": [
        "from sklearn.linear_model import LinearRegression as lr\n",
        "from matplotlib import pyplot as plt\n",
        "lreg=lr()\n",
        "lx=np.expand_dims(x,axis=1)\n",
        "oy=np.expand_dims(y,axis=1)http://codeforces.com/\n",
        "lreg.fit(oy,lx)\n",
        "i_x=data[:,3]\n",
        "i_y=data[:,8]"
      ],
      "execution_count": 0,
      "outputs": []
    },
    {
      "cell_type": "code",
      "metadata": {
        "id": "sgZdwTwYRlrl",
        "colab_type": "code",
        "colab": {}
      },
      "source": [
        "i_x=np.expand_dims(i_x,axis=1)\n",
        "pred_y=lreg.predict(i_x)\n",
        "def plot_reg(a,b,left_x,orig_y):\n",
        "    plt.scatter(left_x,orig_y,color=\"red\")\n",
        "    y_pred=a*left_x+b\n",
        "    plt.plot(left_x,y_pred,color=\"black\")\n",
        "    plt.show()"
      ],
      "execution_count": 0,
      "outputs": []
    },
    {
      "cell_type": "code",
      "metadata": {
        "id": "ojN4pwg-9Rt4",
        "colab_type": "code",
        "colab": {}
      },
      "source": [
        "from sklearn.linear_model import Ridge as rg\n",
        "from sklearn.svm import SVR\n",
        "from sklearn.preprocessing import PolynomialFeatures as pf\n",
        "from matplotlib import pyplot as plt\n",
        "lx=data[:300000,2]\n",
        "oy=data[:300000,8]\n",
        "x=np.expand_dims(lx,axis=1)\n",
        "y=np.expand_dims(oy,axis=1)\n",
        "rdg = rg(alpha=0.1) \n",
        "rdg.fit(y,x) "
      ],
      "execution_count": 0,
      "outputs": []
    },
    {
      "cell_type": "code",
      "metadata": {
        "id": "drqR_mjI9c0b",
        "colab_type": "code",
        "colab": {}
      },
      "source": [
        "from sklearn.linear_model import LinearRegression as lr\n",
        "from sklearn.linear_model import Ridge as rg\n",
        "from sklearn.svm import SVR\n",
        "import pickle\n",
        "import joblib\n",
        "from matplotlib import pyplot as plt\n",
        "poly = pf(degree = 6) \n",
        "lreg=lr()\n",
        "def find_input(data,i,test,z):\n",
        "  x=data[:z,2+i]\n",
        "  y=data[:z,8+i]\n",
        "  print(x[589],y[589])\n",
        "  lx=np.expand_dims(x,axis=1)\n",
        "  oy=np.expand_dims(y,axis=1)\n",
        "  x_poly = poly.fit_transform(lx) \n",
        "  lreg.fit(oy,x_poly)\n",
        "  filename='model'+str(i+1)+'.sav'\n",
        "  joblib.dump(lreg,filename)\n",
        "  out=test[:,1+i]\n",
        "  out=np.expand_dims(out,axis=1)\n",
        "  output=lreg.predict(out)\n",
        "  #print(lreg.coef_,lreg.intercept_)\n",
        "  output=np.array(output[:,1])\n",
        "  print(out[589][0],output[589])\n",
        "  te=(mean_error(x,lreg.predict(oy)[:,1]))\n",
        "  return output,te"
      ],
      "execution_count": 0,
      "outputs": []
    },
    {
      "cell_type": "code",
      "metadata": {
        "id": "nRBk6sDZ9fkF",
        "colab_type": "code",
        "colab": {}
      },
      "source": [
        "from sklearn.linear_model import LinearRegression as lr\n",
        "from sklearn.linear_model import ElasticNet as EN\n",
        "from sklearn.svm import SVR\n",
        "from matplotlib import pyplot as plt\n",
        "\n",
        "poly = pf(degree = 8) \n",
        "lreg=lr()\n",
        "def find_input1(data,i,test,z):\n",
        "  x=data[:z,2+i]\n",
        "  y=data[:z,8+i]\n",
        "  print(x[589],y[589])\n",
        "  lx=np.expand_dims(x,axis=1)\n",
        "  oy=np.expand_dims(y,axis=1)\n",
        "  out=test[:,1+i]\n",
        "  out=np.expand_dims(out,axis=1)\n",
        "  output=rdg.predict(out)\n",
        "  #print(lreg.coef_,lreg.intercept_)\n",
        "  print(out[589][0],output[589])\n",
        "  te=(mean_error(x,rdg.predict(oy)))\n",
        "  return output,te"
      ],
      "execution_count": 0,
      "outputs": []
    },
    {
      "cell_type": "code",
      "metadata": {
        "id": "1yMqVkmP9iNf",
        "colab_type": "code",
        "colab": {}
      },
      "source": [
        "ans=test[:,0]\n",
        "total_error=0\n",
        "a1,t1=find_input(data,0,test,200000)\n",
        "a2,t2=find_input(data,1,test,500000)\n",
        "a3,t3=find_input(data,2,test,500000)\n",
        "a4,t4=find_input(data,3,test,200000)\n",
        "a5,t5=find_input(data,4,test,200000)\n",
        "a6,t6=find_input(data,5,test,200000)\n",
        "total_error=t1+t2+t3+t4+t5+t6\n",
        "print(total_error/649912)"
      ],
      "execution_count": 0,
      "outputs": []
    },
    {
      "cell_type": "code",
      "metadata": {
        "id": "-pRTUcHS9kr8",
        "colab_type": "code",
        "colab": {}
      },
      "source": [
        "total_error=0\n",
        "a1,t1=find_input(data,0,test,700000)\n",
        "a2,t2=find_input(data,1,test,700000)\n",
        "a3,t3=find_input(data,2,test,700000)\n",
        "a4,t4=find_input(data,3,test,700000)\n",
        "a5,t5=find_input(data,4,test,700000)\n",
        "a6,t6=find_input(data,5,test,700000)\n",
        "total_error=t1+t2+t3+t4+t5+t6\n",
        "print(total_error/649912)"
      ],
      "execution_count": 0,
      "outputs": []
    },
    {
      "cell_type": "code",
      "metadata": {
        "id": "gqCb6oTw-Tzx",
        "colab_type": "code",
        "colab": {}
      },
      "source": [
        "def mse(i):\n",
        "  x=data[:,2+i]\n",
        "  y=data[:,8+i]\n",
        "  c1,c2,c3,k,z=0,0,0,float('inf'),0\n",
        "  for i in range(len(x)):\n",
        "    p=abs(x[i]-y[i])\n",
        "    if p<500:\n",
        "      c1+=1\n",
        "    if p>1000:\n",
        "      c2+=1\n",
        "    if p<100:\n",
        "      c3+=1\n",
        "    z=max(z,p)\n",
        "    k=min(k,p)\n",
        "  print(c1,c2,c3,k,z)"
      ],
      "execution_count": 0,
      "outputs": []
    },
    {
      "cell_type": "code",
      "metadata": {
        "id": "07LNyy4z-W4V",
        "colab_type": "code",
        "colab": {}
      },
      "source": [
        "def mycode(i,q):\n",
        "  a1=find_input(data,i,test,q*(10**5))\n",
        "  z=[]\n",
        "  tst=test[:,i+1]\n",
        "  c1,c2,c3=0,0,0\n",
        "  k=100000\n",
        "  z=0\n",
        "  for i in range(200000):\n",
        "    p=abs(a1[i][0]-tst[i])\n",
        "    if p<500:\n",
        "      c1+=1\n",
        "    if p>1000:\n",
        "      c2+=1\n",
        "    if p<100:\n",
        "      c3+=1\n",
        "    z=max(z,p)\n",
        "    k=min(k,p)\n",
        "  print(c1,c2,c3,k,z)"
      ],
      "execution_count": 0,
      "outputs": []
    },
    {
      "cell_type": "code",
      "metadata": {
        "id": "nX2PHqvR-ZS1",
        "colab_type": "code",
        "colab": {}
      },
      "source": [
        "def mycode(i,q):\n",
        "  a1=find_input(data,i,test,q*(10**5))\n",
        "  z=[]\n",
        "  tst=test[:,i+1]\n",
        "  c1,c2,c3=0,0,0\n",
        "  k=100000\n",
        "  z=0\n",
        "  for i in range(200000):\n",
        "    p=abs(a1[i][0]-tst[i])\n",
        "    if p<500:\n",
        "      c1+=1\n",
        "    if p>1000:\n",
        "      c2+=1\n",
        "    if p<100:\n",
        "      c3+=1\n",
        "    z=max(z,p)\n",
        "    k=min(k,p)\n",
        "  print(c1,c2,c3,k,z)"
      ],
      "execution_count": 0,
      "outputs": []
    },
    {
      "cell_type": "code",
      "metadata": {
        "id": "W5qVwQAf-c3P",
        "colab_type": "code",
        "colab": {}
      },
      "source": [
        "out=test[:,1]\n",
        "out=np.expand_dims(out,axis=1)\n",
        "a1=model1.predict(out)\n",
        "out=test[:,1]\n",
        "out=np.expand_dims(out,axis=1)\n",
        "a2=model2.predict(out)\n",
        "out=test[:,1]\n",
        "out=np.expand_dims(out,axis=1)\n",
        "a3=model3.predict(out)\n",
        "out=test[:,1]\n",
        "out=np.expand_dims(out,axis=1)\n",
        "a4=model4.predict(out)\n",
        "out=test[:,1]\n",
        "out=np.expand_dims(out,axis=1)\n",
        "a5=model5.predict(out)\n",
        "out=test[:,1]\n",
        "out=np.expand_dims(out,axis=1)\n",
        "a6=model6.predict(out)"
      ],
      "execution_count": 0,
      "outputs": []
    },
    {
      "cell_type": "code",
      "metadata": {
        "id": "mhhhhzxg-i0n",
        "colab_type": "code",
        "colab": {}
      },
      "source": [
        "import csv\n",
        "filename='submission.csv'\n",
        "fields=['id','x','y','z','Vx','Vy','Vz']\n",
        "p=[0]*7\n",
        "model1=pickle.load(open('model1','wb'))\n",
        "model2=pickle.load(open('model2','wb'))\n",
        "model3=pickle.load(open('model3','wb'))\n",
        "model4=pickle.load(open('model4','wb'))\n",
        "model5=pickle.load(open('model5','wb'))\n",
        "model6=pickle.load(open('model6','wb'))\n",
        "with open(filename,'w') as fp:\n",
        "  csvwriter = csv.writer(fp) \n",
        "  csvwriter.writerow(fields)\n",
        "  for i in range(l):\n",
        "    p=[int(ans[i]),a1[i][0],a2[i][0],a3[i][0],a4[i][0],a5[i][0],a6[i][0]]\n",
        "    csvwriter.writerow(p)"
      ],
      "execution_count": 0,
      "outputs": []
    },
    {
      "cell_type": "code",
      "metadata": {
        "id": "GiYuMeaWUZ0k",
        "colab_type": "code",
        "colab": {}
      },
      "source": [
        ""
      ],
      "execution_count": 0,
      "outputs": []
    },
    {
      "cell_type": "code",
      "metadata": {
        "id": "CQlRM15ZkWsS",
        "colab_type": "code",
        "colab": {}
      },
      "source": [
        ""
      ],
      "execution_count": 0,
      "outputs": []
    },
    {
      "cell_type": "code",
      "metadata": {
        "id": "-9u1yBPWN8mD",
        "colab_type": "code",
        "colab": {}
      },
      "source": [
        ""
      ],
      "execution_count": 0,
      "outputs": []
    },
    {
      "cell_type": "code",
      "metadata": {
        "id": "6awYZkAXOLLo",
        "colab_type": "code",
        "colab": {}
      },
      "source": [
        ""
      ],
      "execution_count": 0,
      "outputs": []
    },
    {
      "cell_type": "code",
      "metadata": {
        "id": "YVf-4a7WXaXm",
        "colab_type": "code",
        "colab": {}
      },
      "source": [
        ""
      ],
      "execution_count": 0,
      "outputs": []
    },
    {
      "cell_type": "code",
      "metadata": {
        "id": "SMGQVC50YTd0",
        "colab_type": "code",
        "colab": {}
      },
      "source": [
        ""
      ],
      "execution_count": 0,
      "outputs": []
    }
  ]
}